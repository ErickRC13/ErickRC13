{
  "nbformat": 4,
  "nbformat_minor": 0,
  "metadata": {
    "colab": {
      "provenance": [],
      "authorship_tag": "ABX9TyNg8Mjgf3/bZqje45VBt2Y7",
      "include_colab_link": true
    },
    "kernelspec": {
      "name": "python3",
      "display_name": "Python 3"
    },
    "language_info": {
      "name": "python"
    }
  },
  "cells": [
    {
      "cell_type": "markdown",
      "metadata": {
        "id": "view-in-github",
        "colab_type": "text"
      },
      "source": [
        "<a href=\"https://colab.research.google.com/github/ErickRC13/ErickRC13/blob/main/Untitled3.ipynb\" target=\"_parent\"><img src=\"https://colab.research.google.com/assets/colab-badge.svg\" alt=\"Open In Colab\"/></a>"
      ]
    },
    {
      "cell_type": "code",
      "execution_count": null,
      "metadata": {
        "id": "dPw_vNFs_Ilv",
        "collapsed": true
      },
      "outputs": [],
      "source": [
        "\n",
        "import matplotlib.pyplot as plt\n",
        "import numpy as np\n",
        "# Función cuadrática.\n",
        "def f(x):\n",
        "    return 1 + (1/2) * x\n",
        "def h(x):\n",
        "    return 1 + (1/2) * x - (1/8)* x**2\n",
        "plt.plot(x,h(x))\n",
        "def g(x):\n",
        "    return 1 + (1/2) * x - (1/8)* x**2 + (1/16)* x**3\n",
        "plt.plot(x,g(x))\n",
        "# Valores del eje X que toma el gráfico.\n",
        "x=np.linspace(-10, 10,100)\n",
        "# Graficar ambas funciones.\n",
        "plt.plot(x, f(x))\n",
        "plt.axhline(0, color=\"black\")\n",
        "plt.axvline(0, color=\"black\")\n",
        "plt.xlim(-5, 5)\n",
        "plt.ylim(-5, 5)\n",
        "\n",
        "#plt.savefig(\"output.png\") # Guardar gráfico como imágen PNG.\n",
        "# Mostrarlo.\n",
        "plt.grid(color = \"black\")\n",
        "plt.show()"
      ]
    }
  ]
}